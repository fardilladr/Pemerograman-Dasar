{
  "nbformat": 4,
  "nbformat_minor": 0,
  "metadata": {
    "colab": {
      "provenance": [],
      "authorship_tag": "ABX9TyN4J8EikFolCM5E1e9rvf1o",
      "include_colab_link": true
    },
    "kernelspec": {
      "name": "python3",
      "display_name": "Python 3"
    },
    "language_info": {
      "name": "python"
    }
  },
  "cells": [
    {
      "cell_type": "markdown",
      "metadata": {
        "id": "view-in-github",
        "colab_type": "text"
      },
      "source": [
        "<a href=\"https://colab.research.google.com/github/fardilladr/Pemerograman-Dasar/blob/main/Pertemuan_2.ipynb\" target=\"_parent\"><img src=\"https://colab.research.google.com/assets/colab-badge.svg\" alt=\"Open In Colab\"/></a>"
      ]
    },
    {
      "cell_type": "code",
      "execution_count": null,
      "metadata": {
        "colab": {
          "base_uri": "https://localhost:8080/"
        },
        "id": "kCLdUa-AALg_",
        "outputId": "5dd97fc7-e183-4c23-d554-3422271b2614"
      },
      "outputs": [
        {
          "output_type": "stream",
          "name": "stdout",
          "text": [
            "Elemen indeks 0: 23\n",
            "Elemen indeks 1: 43\n",
            "Elemen indesk 2: 15\n",
            "Elemen indeks 3: 34\n",
            "Setelah diubah : [23, 43, 51, 34]\n"
          ]
        }
      ],
      "source": [
        "  # Tipe Data List\n",
        "\n",
        "# Deklarasi variabel list\n",
        "numbers = [23, 43, 15, 34]\n",
        "\n",
        "# Mengakses elemen dalam list\n",
        "print(\"Elemen indeks 0:\", numbers[0])\n",
        "print(\"Elemen indeks 1:\", numbers[1])\n",
        "print(\"Elemen indesk 2:\", numbers[2])\n",
        "print(\"Elemen indeks 3:\", numbers[3])\n",
        "\n",
        "# Mengubah nilai elemen dalam list\n",
        "numbers[2] = 51   # Mengubah elemen indeks ke-2\n",
        "\n",
        "print(\"Setelah diubah :\", numbers)"
      ]
    },
    {
      "cell_type": "code",
      "source": [
        "# Tipe Data List\n",
        "\n",
        "# Deklarasi variabel list\n",
        "numbers = [1, 2, 3]\n",
        "print('numbers :', numbers)\n",
        "\n",
        "# Menambahkan elemen di indeks ke-4\n",
        "numbers.insert(4, 5) # [1, 2, 3, 5]\n",
        "print('Setelah di insert di indeks ke-4 :', numbers)\n",
        "\n",
        "# Mengubah elemen di indeks ke-4\n",
        "numbers[3] = 4 # [1, 2, 3, 4]\n",
        "print(\"Setelah di ubah di indeks ke-4:\", numbers)\n",
        "\n",
        "# Menghapus elemen di indeks ke-2\n",
        "numbers.pop(2) # [1, 2, 4]\n",
        "print(\"List setelah pop :\", numbers)\n",
        "print(\"Elemen yang di pop:\", 3)"
      ],
      "metadata": {
        "colab": {
          "base_uri": "https://localhost:8080/"
        },
        "id": "svYIPmlYFCrW",
        "outputId": "dc788a23-a1e4-48f1-91b9-d66cf8c3c96e"
      },
      "execution_count": null,
      "outputs": [
        {
          "output_type": "stream",
          "name": "stdout",
          "text": [
            "numbers : [1, 2, 3]\n",
            "Setelah di insert di indeks ke-4 : [1, 2, 3, 5]\n",
            "Setelah di ubah di indeks ke-4: [1, 2, 3, 4]\n",
            "List setelah pop : [1, 2, 4]\n",
            "Elemen yang di pop: 3\n"
          ]
        }
      ]
    },
    {
      "cell_type": "code",
      "source": [
        "# Tipe Data List\n",
        "\n",
        "# Deklarasi variabel list\n",
        "myList = [1, \"Rumah\", 4.5, True, [\"Kamar mandi\", \"Kamar tidur\"]]\n",
        "\n",
        "# Mengakses elemen dalam variabel list\n",
        "myList[0]\n",
        "myList[1]\n",
        "myList[2]\n",
        "myList[3]\n",
        "myList[4]\n",
        "print(\"Elemen indeks 0    :\", myList[0])   # 1\n",
        "print(\"Elemen indeks 1    :\", myList[1])   # \"Rumah\"\n",
        "print(\"Elemen indeks 2    :\", myList[2])   # 4.5\n",
        "print(\"Elemen indeks 3    :\", myList[3])   # True\n",
        "print(\"Elemen indeks 4    :\", myList[4])   # [\"Kamar mandi\", \"Kamar tidur\"]\n",
        "\n",
        "# Mengakses elemen dalam sublist\n",
        "print(\"Elemen indeks 4[0] :\", myList[4][0])   # \"Kamar mandi\"\n",
        "print(\"Elemen indeks 4[1] :\", myList[4][1])   # \"Kamar tidur\"\n",
        "print(myList[0], myList[4][1])\n"
      ],
      "metadata": {
        "colab": {
          "base_uri": "https://localhost:8080/"
        },
        "id": "UOYB9i9PljgP",
        "outputId": "30e0328c-acc5-4c34-de72-2d4cc2bb0b9d"
      },
      "execution_count": null,
      "outputs": [
        {
          "output_type": "stream",
          "name": "stdout",
          "text": [
            "Elemen indeks 0    : 1\n",
            "Elemen indeks 1    : Rumah\n",
            "Elemen indeks 2    : 4.5\n",
            "Elemen indeks 3    : True\n",
            "Elemen indeks 4    : ['Kamar mandi', 'Kamar tidur']\n",
            "Elemen indeks 4[0] : Kamar mandi\n",
            "Elemen indeks 4[1] : Kamar tidur\n",
            "1 Kamar tidur\n"
          ]
        }
      ]
    },
    {
      "cell_type": "code",
      "source": [
        "# Tipe Slicing List\n",
        "\n",
        "x = ['laptop', 'monitor', 'mouse', 'mousepad', 'keyboard', 'webcam', 'microphone']\n",
        "print(x[0:5:2])\n",
        "print(x[1:])\n",
        "print(x[:3])\n",
        "print(x[-1:-5:-1])\n",
        "print('Tipe data:', type(x))\n"
      ],
      "metadata": {
        "colab": {
          "base_uri": "https://localhost:8080/"
        },
        "id": "dznQrx1gyFbR",
        "outputId": "1456d449-c43a-48ce-d4de-9ef11a4a5f07"
      },
      "execution_count": null,
      "outputs": [
        {
          "output_type": "stream",
          "name": "stdout",
          "text": [
            "['laptop', 'mouse', 'keyboard']\n",
            "['monitor', 'mouse', 'mousepad', 'keyboard', 'webcam', 'microphone']\n",
            "['laptop', 'monitor', 'mouse']\n",
            "['microphone', 'webcam', 'keyboard', 'mousepad']\n",
            "Tipe data: <class 'list'>\n"
          ]
        }
      ]
    },
    {
      "cell_type": "code",
      "source": [
        "# Indexing Tuple\n",
        "\n",
        "x = (5, 'program', 1+3j)\n",
        "\n",
        "print(x[1])\n",
        "print(x[0:3])\n",
        "print('Tipe data:', type(x))\n"
      ],
      "metadata": {
        "colab": {
          "base_uri": "https://localhost:8080/"
        },
        "id": "CPDNgTT46sAk",
        "outputId": "a0734b44-1c28-4d27-ccbf-7f26212b4b91"
      },
      "execution_count": null,
      "outputs": [
        {
          "output_type": "stream",
          "name": "stdout",
          "text": [
            "program\n",
            "(5, 'program', (1+3j))\n",
            "Tipe data: <class 'tuple'>\n"
          ]
        }
      ]
    },
    {
      "cell_type": "code",
      "source": [
        "# Tipe Data Tuple\n",
        "\n",
        "# Deklarasi variabel tuple\n",
        "numbers = (23, 43, 15, 34)\n",
        "\n",
        "# Mengakses elemen dalam tuple\n",
        "numbers[0]\n",
        "numbers[1]\n",
        "numbers[2]\n",
        "numbers[3]\n",
        "print(\"Elemen indeks 0:\", numbers[0])\n",
        "print(\"Elemen indeks 1:\", numbers[1])\n",
        "print(\"Elemen indeks 2:\", numbers[2])\n",
        "print(\"Elemen indeks 3:\", numbers[3])"
      ],
      "metadata": {
        "colab": {
          "base_uri": "https://localhost:8080/"
        },
        "id": "pJi9YBsL7VAI",
        "outputId": "7a031dab-b22d-4105-a9d2-d9bd226121ee"
      },
      "execution_count": null,
      "outputs": [
        {
          "output_type": "stream",
          "name": "stdout",
          "text": [
            "Elemen indeks 0: 23\n",
            "Elemen indeks 1: 43\n",
            "Elemen indeks 2: 15\n",
            "Elemen indeks 3: 34\n"
          ]
        }
      ]
    },
    {
      "cell_type": "code",
      "source": [
        "# Tipe Data Set\n",
        "\n",
        "# Deklarasi variabel set a dan b\n",
        "a = {1, 2, 3}\n",
        "b = {2, 3, 4}\n",
        "\n",
        "# Operasi gabungan\n",
        "print(\"Gabungan   :\", a.union(b))\n",
        "\n",
        "# Operasi irisan\n",
        "print(\"Irisan     :\", a.intersection(b))\n",
        "\n",
        "# Operasi perbedaan simetris\n",
        "print(\"Perbedaan  :\", a.symmetric_difference(b))\n",
        "\n",
        "print('Tipe data  :', type(a))\n",
        "print('Tipe data  :', type(b))\n"
      ],
      "metadata": {
        "colab": {
          "base_uri": "https://localhost:8080/"
        },
        "id": "6O-DzxGD8kDo",
        "outputId": "179a2def-78e0-4a3d-d681-383d380ee0bf"
      },
      "execution_count": null,
      "outputs": [
        {
          "output_type": "stream",
          "name": "stdout",
          "text": [
            "Gabungan   : {1, 2, 3, 4}\n",
            "Irisan     : {2, 3}\n",
            "Perbedaan  : {1, 4}\n",
            "Tipe data  : <class 'set'>\n",
            "Tipe data  : <class 'set'>\n"
          ]
        }
      ]
    },
    {
      "cell_type": "code",
      "source": [
        "# Tipe Data Dictionary\n",
        "\n",
        "# Deklarasi variabel dictionary\n",
        "propertyDetail = {\"numFloors\": 1,\"propertyType\": \"Rumah\",\"hasTerrace\": True,\"hasGarage\": False}\n",
        "\n",
        "# Cara mengakses elemen dalam variabel dictionary\n",
        "print(\"Jumlah lantai        :\", propertyDetail[\"numFloors\"])\n",
        "print(\"Tipe properti        :\", propertyDetail[\"propertyType\"])\n",
        "print(\"Terdapat teras       :\", propertyDetail[\"hasTerrace\"])\n",
        "print(\"Terdapat garasi      :\", propertyDetail[\"hasGarage\"])\n",
        "\n",
        "# Cara mengubah nilai elemen dalam dictionary\n",
        "propertyDetail[\"hasTerrace\"] = False\n",
        "print(\"Mengubah teras       :\", propertyDetail[\"hasTerrace\"])\n",
        "\n",
        "# Menghapus Data\n",
        "del propertyDetail[\"hasGarage\"]\n",
        "print('Setelah di delete    :', propertyDetail)\n",
        "\n",
        "# Menambah Data\n",
        "propertyDetail[\"hasSwimmingPool\"] = True\n",
        "print('Setelah di tambah    :', propertyDetail)\n",
        "print('Tipe data            :', type(propertyDetail))\n"
      ],
      "metadata": {
        "colab": {
          "base_uri": "https://localhost:8080/"
        },
        "id": "ACP-x9UCBN2N",
        "outputId": "38d5ccac-cd7c-47a2-8c23-e32d1128c59d"
      },
      "execution_count": null,
      "outputs": [
        {
          "output_type": "stream",
          "name": "stdout",
          "text": [
            "Jumlah lantai        : 1\n",
            "Tipe properti        : Rumah\n",
            "Terdapat teras       : True\n",
            "Terdapat garasi      : False\n",
            "Mengubah teras       : False\n",
            "Setelah di delete    : {'numFloors': 1, 'propertyType': 'Rumah', 'hasTerrace': False}\n",
            "Setelah di tambah    : {'numFloors': 1, 'propertyType': 'Rumah', 'hasTerrace': False, 'hasSwimmingPool': True}\n",
            "Tipe data            : <class 'dict'>\n"
          ]
        }
      ]
    }
  ]
}