{
  "nbformat": 4,
  "nbformat_minor": 0,
  "metadata": {
    "colab": {
      "provenance": [],
      "authorship_tag": "ABX9TyOmol6K3UrqCL40c/NzSKSB",
      "include_colab_link": true
    },
    "kernelspec": {
      "name": "python3",
      "display_name": "Python 3"
    },
    "language_info": {
      "name": "python"
    }
  },
  "cells": [
    {
      "cell_type": "markdown",
      "metadata": {
        "id": "view-in-github",
        "colab_type": "text"
      },
      "source": [
        "<a href=\"https://colab.research.google.com/github/fardilladr/Pemrograman-Dasar/blob/main/LATIHAN%202.ipynb\" target=\"_parent\"><img src=\"https://colab.research.google.com/assets/colab-badge.svg\" alt=\"Open In Colab\"/></a>"
      ]
    },
    {
      "cell_type": "code",
      "execution_count": null,
      "metadata": {
        "colab": {
          "base_uri": "https://localhost:8080/"
        },
        "id": "8rGmLgn--W1e",
        "outputId": "712bb764-2c94-4ae9-eb47-c8a2260d1051"
      },
      "outputs": [
        {
          "output_type": "stream",
          "name": "stdout",
          "text": [
            "Masukkan sebuah angka: 29\n",
            "Bukanlah kelipatan dari 5\n"
          ]
        }
      ],
      "source": [
        "# Latihan 1. Membuat suatu program yang menghasilkan \"kelipatan 5\" jika angka tersebut habis dibagi 5\n",
        "\n",
        "angka = int(input(\"Masukkan sebuah angka: \"))\n",
        "\n",
        "if angka % 5 == 0:\n",
        "    print(\"Kelipatan dari 5\")\n",
        "\n",
        "else:\n",
        "    print(\"Bukanlah kelipatan dari 5\")\n"
      ]
    },
    {
      "cell_type": "code",
      "source": [
        "# Latihan 2. Menentukan tahun kabisat menggunakan suatu kondisi\n",
        "tahun = int(input(\"Masukkan tahun: \"))\n",
        "\n",
        "if tahun % 400 == 0:\n",
        "    print(\"Tahun kabisat\")\n",
        "\n",
        "elif tahun % 4 == 0 and tahun % 100 != 0:\n",
        "    print(\"Tahun kabisat\")\n",
        "\n",
        "else:\n",
        "    print(\"Bukan tahun kabisat\")\n"
      ],
      "metadata": {
        "colab": {
          "base_uri": "https://localhost:8080/"
        },
        "id": "5PQ5Wvrx_Ynl",
        "outputId": "b27642da-c32d-4e58-d2e5-3181e1899fd5"
      },
      "execution_count": null,
      "outputs": [
        {
          "output_type": "stream",
          "name": "stdout",
          "text": [
            "Masukkan tahun: 2028\n",
            "Tahun kabisat\n"
          ]
        }
      ]
    },
    {
      "cell_type": "code",
      "source": [
        "# Latihan 3\n",
        "# Program Soal Matematika dengan Kondisi if-elif-else\n",
        "\n",
        "operand_A = int(input(\"Masukkan operand A : \"))\n",
        "operand_B = int(input(\"Masukkan operand B : \"))\n",
        "operator = input(\"Masukkan operator (+, -, *, /, %, ** ) : \")\n",
        "\n",
        "if operator == \"+\":\n",
        "    print(\"Hasil:\", operand_A + operand_B )\n",
        "\n",
        "elif operator == \"-\":\n",
        "    print(\"Hasil:\", operand_A - operand_B )\n",
        "\n",
        "elif operator == \"*\":\n",
        "    print(\"Hasil:\", operand_A * operand_B )\n",
        "\n",
        "elif operator == \"/\":\n",
        "        print(\"Hasil:\", operand_A / operand_B)\n",
        "\n",
        "elif operator == \"%\":\n",
        "    print(\"Hasil:\", operand_A % operand_B)\n",
        "\n",
        "elif operator == \"**\":\n",
        "    print(\"Hasil:\", operand_A ** operand_B)\n",
        "\n",
        "else :\n",
        "    print(\"Operator tidak valid\")"
      ],
      "metadata": {
        "colab": {
          "base_uri": "https://localhost:8080/"
        },
        "id": "lIoNKtvJcL15",
        "outputId": "54a54b26-d70a-4d3a-edb1-4232b5b20164"
      },
      "execution_count": null,
      "outputs": [
        {
          "output_type": "stream",
          "name": "stdout",
          "text": [
            "Masukkan operand A : 9\n",
            "Masukkan operand B : 3\n",
            "Masukkan operator (+, -, *, /, %, ** ) : **\n",
            "Hasil: 729\n"
          ]
        }
      ]
    },
    {
      "cell_type": "code",
      "source": [
        "# Latihan 4. Membuat program yang meminta input bulan\n",
        "bulan = int(input(\"Masukkan urutan bulan (1-12): \"))\n",
        "if bulan == 1:\n",
        "    print(\"Merupakan Bulan Januari\")\n",
        "elif bulan == 2:\n",
        "    print(\"Merupakan Bulan Februari\")\n",
        "elif bulan == 3:\n",
        "    print(\"Merupakan Bulan Maret\")\n",
        "elif bulan == 4:\n",
        "    print(\"Merupakan Bulan April\")\n",
        "elif bulan == 5:\n",
        "    print(\"Merupakan Bulan Mei\")\n",
        "elif bulan == 6:\n",
        "    print(\"Merupakan Bulan Juni\")\n",
        "elif bulan == 7:\n",
        "    print(\"Merupakan Bulan Juli\")\n",
        "elif bulan == 8:\n",
        "    print(\"Merupakan Bulan Agustus\")\n",
        "elif bulan == 9:\n",
        "    print(\"Merupakan Bulan September\")\n",
        "elif bulan == 10:\n",
        "    print(\"Merupakan Bulan Oktober\")\n",
        "elif bulan == 11:\n",
        "    print(\"Merupakan Bulan November\")\n",
        "elif bulan == 12:\n",
        "    print(\"Merupakan Bulan Desember\")\n",
        "else:\n",
        "    print(\"Input yang anda masukkan tidak tersedia\")"
      ],
      "metadata": {
        "colab": {
          "base_uri": "https://localhost:8080/"
        },
        "id": "J_sG2iFUD0Hm",
        "outputId": "c6df59c2-2744-49d0-a223-d0469c7e2306"
      },
      "execution_count": null,
      "outputs": [
        {
          "output_type": "stream",
          "name": "stdout",
          "text": [
            "Masukkan urutan bulan (1-12): 10\n",
            "Merupakan Bulan Oktober\n"
          ]
        }
      ]
    },
    {
      "cell_type": "code",
      "source": [
        "# Latihan 5. Membuat program yang meminta jam (0-23)\n",
        "\n",
        "jam = int(input(\"Masukkan jam (0-23) WIB: \"))\n",
        "\n",
        "if 0 <= jam <= 11:\n",
        "    print(\"Morning Sunshine <3 \")\n",
        "elif 12 <= jam <= 15:\n",
        "    print(\"Selamat Siang\")\n",
        "elif 16 <= jam <= 18:\n",
        "    print(\"Selamat Sore\")\n",
        "elif 19 <= jam <= 23:\n",
        "    print(\"Selamat Malam\")\n",
        "else:\n",
        "    print(\"Silahkan masukkan input lain\")"
      ],
      "metadata": {
        "colab": {
          "base_uri": "https://localhost:8080/"
        },
        "id": "9iAULS3nErCq",
        "outputId": "25ce9861-9e8c-49ef-cd03-d91f9f7f7417"
      },
      "execution_count": null,
      "outputs": [
        {
          "output_type": "stream",
          "name": "stdout",
          "text": [
            "Masukkan jam (0-23) WIB: 6\n",
            "Morning Sunshine <3 \n"
          ]
        }
      ]
    }
  ]
}
