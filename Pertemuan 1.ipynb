{
  "nbformat": 4,
  "nbformat_minor": 0,
  "metadata": {
    "colab": {
      "provenance": [],
      "authorship_tag": "ABX9TyOoFNtbRFgOhWbCPAcdqZZO",
      "include_colab_link": true
    },
    "kernelspec": {
      "name": "python3",
      "display_name": "Python 3"
    },
    "language_info": {
      "name": "python"
    }
  },
  "cells": [
    {
      "cell_type": "markdown",
      "metadata": {
        "id": "view-in-github",
        "colab_type": "text"
      },
      "source": [
        "<a href=\"https://colab.research.google.com/github/fardilladr/Pemerograman-Dasar/blob/main/Pertemuan%201.ipynb\" target=\"_parent\"><img src=\"https://colab.research.google.com/assets/colab-badge.svg\" alt=\"Open In Colab\"/></a>"
      ]
    },
    {
      "cell_type": "code",
      "execution_count": null,
      "metadata": {
        "colab": {
          "base_uri": "https://localhost:8080/"
        },
        "id": "KW6YKfDfF8q7",
        "outputId": "d190c051-57ad-46ec-ad52-1c70c4bfc664"
      },
      "outputs": [
        {
          "output_type": "stream",
          "name": "stdout",
          "text": [
            "Fardilla Delti Rama\n",
            "20\n",
            "RPE\n",
            "3\n",
            "Pemerograman Dasar\n",
            "False\n"
          ]
        }
      ],
      "source": [
        "# Biodata Saya\n",
        "Nama = 'Fardilla Delti Rama'\n",
        "Umur = 20\n",
        "Jurusan = 'RPE'\n",
        "Semester = 3\n",
        "Mata_kuliah = 'Pemerograman Dasar'\n",
        "Status_lulus = False\n",
        "\n",
        "\n",
        "print (Nama)\n",
        "print (Umur)\n",
        "print (Jurusan)\n",
        "print (Semester)\n",
        "print (Mata_kuliah)\n",
        "print (Status_lulus)\n",
        "\n",
        "\n"
      ]
    }
  ]
}