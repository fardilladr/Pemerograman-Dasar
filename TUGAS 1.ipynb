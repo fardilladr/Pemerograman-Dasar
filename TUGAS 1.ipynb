{
  "nbformat": 4,
  "nbformat_minor": 0,
  "metadata": {
    "colab": {
      "provenance": [],
      "authorship_tag": "ABX9TyNWVtrI1vmvKKzJU9L9XSdk",
      "include_colab_link": true
    },
    "kernelspec": {
      "name": "python3",
      "display_name": "Python 3"
    },
    "language_info": {
      "name": "python"
    }
  },
  "cells": [
    {
      "cell_type": "markdown",
      "metadata": {
        "id": "view-in-github",
        "colab_type": "text"
      },
      "source": [
        "<a href=\"https://colab.research.google.com/github/fardilladr/Pemerograman-Dasar/blob/main/TUGAS%201.ipynb\" target=\"_parent\"><img src=\"https://colab.research.google.com/assets/colab-badge.svg\" alt=\"Open In Colab\"/></a>"
      ]
    },
    {
      "cell_type": "code",
      "source": [
        "# Membuat Data\n",
        "Nama = \"Fardilla Delti Rama\"\n",
        "Nim = \"4232401029\"\n",
        "Umur = 20\n",
        "Jurusan = \"Teknik Elektro\"\n",
        "Prodi = \"Teknologi Rekayasa Pembangkit Energi\"\n",
        "Semester = 3\n",
        "Kelas = \"Malam A\"\n",
        "Matakuliah = \"Pemerograman Dasar\"\n",
        "Hobi = \"Menonton, Mendengarkan musik, Tidur\"\n",
        "Agama = \"Islam\"\n",
        "Tempat_tanggallahir = \"Batam, 29 Agustus 2005\"\n",
        "Nomer_telepon = \"(+62) 82287466754\"\n",
        "E_mail = 'fardilladeltirama@gmail.com'\n",
        "Mahasiswa_aktif = True\n",
        "Status_lulus = False\n",
        "\n",
        "# Menampilkan Data\n",
        "print (\"~~~~Data Diri Mahasiswa~~~~\")\n",
        "print ('Nama                  :', Nama)\n",
        "print ('Nim                   :', Nim)\n",
        "print (f\"Umur                  : {Umur} tahun\")\n",
        "print ('Jurusan               :', Jurusan)\n",
        "print ('Prodi                 :', Prodi)\n",
        "print ('Semester              :', Semester)\n",
        "print (\"Kelas                 :\", Kelas)\n",
        "print ('Mata kuliah           :', Matakuliah)\n",
        "print ('Hobi                  :', Hobi)\n",
        "print ('Agama                 :', Agama)\n",
        "print ('Tempat, tanggal lahir :', Tempat_tanggallahir)\n",
        "print ('Nomer telepon         :', Nomer_telepon)\n",
        "print ('E-mail                :', E_mail)\n",
        "print ('Mahasiswa aktif       :', Mahasiswa_aktif)\n",
        "print ('Status lulus          :', Status_lulus)\n",
        "\n",
        "# Jenis Type Data\n",
        "print (\"~~~~Jenis Type Data~~~~\")\n",
        "print ('Type Data Nama                  :', type(Nama))\n",
        "print ('Type Data Nama                  :', type(Nim))\n",
        "print ('Type Data Umur                  :', type(Umur))\n",
        "print ('Type Data Jurusan               :', type(Jurusan))\n",
        "print ('Type Data Prodi                 :', type(Prodi))\n",
        "print ('Type Data Semester              :', type(Semester))\n",
        "print ('Type Data Kelas                 :', type(Kelas))\n",
        "print ('Type Data Mata Kuliah           :', type(Matakuliah))\n",
        "print ('Type Data Hobi                  :', type(Hobi))\n",
        "print ('Type Data Agama                 :', type(Agama))\n",
        "print ('Type Data Tempat, tanggal lahir :', type(Tempat_tanggallahir))\n",
        "print ('Type Data Nomer telepon         :', type(Nomer_telepon))\n",
        "print ('Type Data E-mail                :', type(E_mail))\n",
        "print ('Type Data Mahasiswa aktif       :', type(Mahasiswa_aktif))\n",
        "print ('Type Data Status lulus          :', type(Status_lulus))\n",
        "\n"
      ],
      "metadata": {
        "colab": {
          "base_uri": "https://localhost:8080/"
        },
        "id": "FDIFYIXZBGhy",
        "outputId": "d7f6bb7b-df43-46a6-c5be-4bd12ddfeed3"
      },
      "execution_count": 76,
      "outputs": [
        {
          "output_type": "stream",
          "name": "stdout",
          "text": [
            "~~~~Data Diri Mahasiswa~~~~\n",
            "Nama                  : Fardilla Delti Rama\n",
            "Nim                   : 4232401029\n",
            "Umur                  : 20 tahun\n",
            "Jurusan               : Teknik Elektro\n",
            "Prodi                 : Teknologi Rekayasa Pembangkit Energi\n",
            "Semester              : 3\n",
            "Kelas                 : Malam A\n",
            "Mata kuliah           : Pemerograman Dasar\n",
            "Hobi                  : Menonton, Mendengarkan musik, Tidur\n",
            "Agama                 : Islam\n",
            "Tempat, tanggal lahir : Batam, 29 Agustus 2005\n",
            "Nomer telepon         : (+62) 82287466754\n",
            "E-mail                : fardilladeltirama@gmail.com\n",
            "Mahasiswa aktif       : True\n",
            "Status lulus          : False\n",
            "~~~~Jenis Type Data~~~~\n",
            "Type Data Nama                  : <class 'str'>\n",
            "Type Data Nama                  : <class 'str'>\n",
            "Type Data Umur                  : <class 'int'>\n",
            "Type Data Jurusan               : <class 'str'>\n",
            "Type Data Prodi                 : <class 'str'>\n",
            "Type Data Semester              : <class 'int'>\n",
            "Type Data Kelas                 : <class 'str'>\n",
            "Type Data Mata Kuliah           : <class 'str'>\n",
            "Type Data Hobi                  : <class 'str'>\n",
            "Type Data Agama                 : <class 'str'>\n",
            "Type Data Tempat, tanggal lahir : <class 'str'>\n",
            "Type Data Nomer telepon         : <class 'str'>\n",
            "Type Data E-mail                : <class 'str'>\n",
            "Type Data Mahasiswa aktif       : <class 'bool'>\n",
            "Type Data Status lulus          : <class 'bool'>\n"
          ]
        }
      ]
    },
    {
      "cell_type": "markdown",
      "source": [],
      "metadata": {
        "id": "Esr6Ihy2EBpQ"
      }
    }
  ]
}