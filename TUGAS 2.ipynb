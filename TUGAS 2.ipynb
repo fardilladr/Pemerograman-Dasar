{
  "nbformat": 4,
  "nbformat_minor": 0,
  "metadata": {
    "colab": {
      "provenance": [],
      "authorship_tag": "ABX9TyMUDsdEkfyhNw/3sECPACew",
      "include_colab_link": true
    },
    "kernelspec": {
      "name": "python3",
      "display_name": "Python 3"
    },
    "language_info": {
      "name": "python"
    }
  },
  "cells": [
    {
      "cell_type": "markdown",
      "metadata": {
        "id": "view-in-github",
        "colab_type": "text"
      },
      "source": [
        "<a href=\"https://colab.research.google.com/github/fardilladr/Pemerograman-Dasar/blob/main/TUGAS%202.ipynb\" target=\"_parent\"><img src=\"https://colab.research.google.com/assets/colab-badge.svg\" alt=\"Open In Colab\"/></a>"
      ]
    },
    {
      "cell_type": "code",
      "execution_count": null,
      "metadata": {
        "colab": {
          "base_uri": "https://localhost:8080/"
        },
        "id": "LRdjHaMNd4kT",
        "outputId": "d1c15dbd-d171-4023-e342-f1383cf7fa00"
      },
      "outputs": [
        {
          "output_type": "stream",
          "name": "stdout",
          "text": [
            "First name   : Fardilla Delti\n",
            "Last name    : Rama\n",
            "Age          : 20\n",
            "Is married   : False\n",
            "Tipe data First name   : <class 'str'>\n",
            "Tipe data Last name    : <class 'str'>\n",
            "Tipe data Age          : <class 'int'>\n",
            "Tipe data Is married   : <class 'bool'>\n"
          ]
        }
      ],
      "source": [
        "# TUGAS 2 (1)\n",
        "\n",
        "firstName = \"Fardilla Delti\"\n",
        "lastName = \"Rama\"\n",
        "age = 20\n",
        "isMarried = False\n",
        "\n",
        "print('First name   :', firstName)\n",
        "print('Last name    :', lastName)\n",
        "print('Age          :', age)\n",
        "print('Is married   :', isMarried)\n",
        "\n",
        "print('Tipe data First name   :', type(firstName))\n",
        "print('Tipe data Last name    :', type(lastName))\n",
        "print('Tipe data Age          :', type(age))\n",
        "print('Tipe data Is married   :', type(isMarried))"
      ]
    },
    {
      "cell_type": "code",
      "source": [
        "# Tugas 2 (2)\n",
        "Data_diri =   {\n",
        "    \"First name\": \"Fardilla Delti\",\n",
        "    \"Last name\": \"Rama\",\n",
        "    \"Age\": 20,\n",
        "    \"Is married\": False}\n",
        "\n",
        "print(Data_diri)\n",
        "print('Tipe data :', type(Data_diri))\n",
        "\n"
      ],
      "metadata": {
        "colab": {
          "base_uri": "https://localhost:8080/"
        },
        "id": "LALW827ugGPt",
        "outputId": "3fc9dc0f-6e66-449c-df39-a6747af03a11"
      },
      "execution_count": null,
      "outputs": [
        {
          "output_type": "stream",
          "name": "stdout",
          "text": [
            "{'First name': 'Fardilla Delti', 'Last name': 'Rama', 'Age': 20, 'Is married': False}\n",
            "Tipe data : <class 'dict'>\n"
          ]
        }
      ]
    },
    {
      "cell_type": "code",
      "source": [
        "# Tugas 2 (3)\n",
        "Inspeksi = [\"pemahaman terhadap rencana dan desain\",\"ketersediaan bahan dan peralatan\",\"pengawasan pekerjaan\",\"kualitas konstruksi\",\"keselamatan kerja\",\"koordinasi dengan pemilik proyek\"]\n",
        "print('Elemen indeks 0:', Inspeksi[0])\n",
        "print('lemen indeks 1 :', Inspeksi[1])\n",
        "print('Elemen indeks 2:', Inspeksi[2])\n",
        "print('Elemen indeks 3:', Inspeksi[3])\n",
        "print('Elemen indeks 4:', Inspeksi[4])\n",
        "print('Elemen indeks 5:', Inspeksi[5])\n",
        "print('Tipe data      :', type(Inspeksi))"
      ],
      "metadata": {
        "id": "E6p6O6xYqUAV",
        "colab": {
          "base_uri": "https://localhost:8080/"
        },
        "outputId": "f735649d-348d-4738-aa3a-d4ad82ef5abe"
      },
      "execution_count": null,
      "outputs": [
        {
          "output_type": "stream",
          "name": "stdout",
          "text": [
            "Elemen indeks 0: pemahaman terhadap rencana dan desain\n",
            "lemen indeks 1 : ketersediaan bahan dan peralatan\n",
            "Elemen indeks 2: pengawasan pekerjaan\n",
            "Elemen indeks 3: kualitas konstruksi\n",
            "Elemen indeks 4: keselamatan kerja\n",
            "Elemen indeks 5: koordinasi dengan pemilik proyek\n",
            "Tipe data      : <class 'list'>\n"
          ]
        }
      ]
    },
    {
      "cell_type": "code",
      "source": [
        "# Tugas 2 (4)\n",
        "# Variabael startTime bertipe data dictionary\n",
        "startTime = {\"HH\": 9,\"mm\": 23, \"ss\": 57}\n",
        "print(\"Start Time = \",f\"{startTime['HH']}:{startTime['mm']}:{startTime['ss']}\")\n",
        "print('Tipe data startTime :', type(startTime))\n",
        "endTime = {\"HH\": 15,\"mm\": 25, \"ss\": 43}\n",
        "print(\"End time = \",f\"{startTime['HH']}:{startTime['mm']}:{startTime['ss']}\")\n",
        "print('Tipe data endTime :', type(endTime))\n"
      ],
      "metadata": {
        "id": "qMcZnSVdqT8_",
        "colab": {
          "base_uri": "https://localhost:8080/"
        },
        "outputId": "25e710dc-8248-4d3e-cd51-8e4d5292da97"
      },
      "execution_count": null,
      "outputs": [
        {
          "output_type": "stream",
          "name": "stdout",
          "text": [
            "Start Time =  9:23:57\n",
            "Tipe data startTime : <class 'dict'>\n",
            "End time =  9:23:57\n",
            "Tipe data endTime : <class 'dict'>\n"
          ]
        }
      ]
    },
    {
      "cell_type": "code",
      "source": [
        "# Tugas 2 (5)\n",
        "# Data awal\n",
        "katalog_A = {\"Pink\", \"Silver\", \"Navy\", \"Maroon\"}\n",
        "katalog_B = {\"Cream\", \"Orange\", \"Red\", \"Pink\"}\n",
        "produk_diskon = (\"Pink\", \"Red\", \"Silver\")  # tuple\n",
        "# 1. Gabungkan katalog_A dan katalog_B\n",
        "katalog_lengkap = katalog_A.union(katalog_B)\n",
        "# 2. Cari produk yang ada di katalog_lengkap dan juga ada di produk_diskon\n",
        "produk_promo_aktif = katalog_lengkap.intersection(produk_diskon)\n",
        "# Tampilkan hasil\n",
        "print(\"Katalog A                     :\", katalog_A)\n",
        "print(\"Katalog B                     :\", katalog_B)\n",
        "print(\"Produk Diskon                 :\", produk_diskon)\n",
        "print(\"Katalog Lengkap               :\", katalog_lengkap)\n",
        "print(\"Produk Promo Aktif            :\", produk_promo_aktif)\n",
        "# Cek tipe datanya\n",
        "print(\"Tipe data katalog_lengkap    :\", type(katalog_lengkap))\n",
        "print(\"Tipe data produk_diskon      :\", type(produk_diskon))\n",
        "print(\"Tipe data produk_promo_aktif :\", type(produk_promo_aktif))"
      ],
      "metadata": {
        "colab": {
          "base_uri": "https://localhost:8080/"
        },
        "id": "0Inz7dbxM2Sb",
        "outputId": "d6ec3c1e-d59d-43ab-c351-0167e1180aeb"
      },
      "execution_count": 1,
      "outputs": [
        {
          "output_type": "stream",
          "name": "stdout",
          "text": [
            "Katalog A                     : {'Navy', 'Silver', 'Pink', 'Maroon'}\n",
            "Katalog B                     : {'Red', 'Cream', 'Pink', 'Orange'}\n",
            "Produk Diskon                 : ('Pink', 'Red', 'Silver')\n",
            "Katalog Lengkap               : {'Navy', 'Silver', 'Maroon', 'Red', 'Cream', 'Pink', 'Orange'}\n",
            "Produk Promo Aktif            : {'Red', 'Silver', 'Pink'}\n",
            "Tipe data katalog_lengkap    : <class 'set'>\n",
            "Tipe data produk_diskon      : <class 'tuple'>\n",
            "Tipe data produk_promo_aktif : <class 'set'>\n"
          ]
        }
      ]
    }
  ]
}