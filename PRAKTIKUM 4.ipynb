{
  "nbformat": 4,
  "nbformat_minor": 0,
  "metadata": {
    "colab": {
      "provenance": [],
      "authorship_tag": "ABX9TyMVVgJKrRNpRQ6segfeBSru",
      "include_colab_link": true
    },
    "kernelspec": {
      "name": "python3",
      "display_name": "Python 3"
    },
    "language_info": {
      "name": "python"
    }
  },
  "cells": [
    {
      "cell_type": "markdown",
      "metadata": {
        "id": "view-in-github",
        "colab_type": "text"
      },
      "source": [
        "<a href=\"https://colab.research.google.com/github/fardilladr/Pemrograman-Dasar/blob/main/PRAKTIKUM%204.ipynb\" target=\"_parent\"><img src=\"https://colab.research.google.com/assets/colab-badge.svg\" alt=\"Open In Colab\"/></a>"
      ]
    },
    {
      "cell_type": "code",
      "execution_count": null,
      "metadata": {
        "colab": {
          "base_uri": "https://localhost:8080/"
        },
        "id": "kfc8601Z0t4B",
        "outputId": "50e134ec-d55d-45e1-86e2-28a54d9e8a2b"
      },
      "outputs": [
        {
          "output_type": "stream",
          "name": "stdout",
          "text": [
            "Berapa umur anda? 17\n",
            "Pengunjung adalah orang dewasa\n"
          ]
        }
      ],
      "source": [
        "# Praktikum 1 (pertemuan 4) (if)\n",
        "# Variabel untuk menyimpan umur pengunjung\n",
        "\n",
        "umur= int(input(\"Berapa umur anda? \"))\n",
        "\n",
        "if umur >= 17:\n",
        "   print(\"Pengunjung adalah orang dewasa\")\n",
        "if umur < 17:\n",
        "   print(\"Pengunjung adalah anak-anak\")\n"
      ]
    },
    {
      "cell_type": "code",
      "source": [
        "# Praktikum 2 (pertemuan 4) (if)\n",
        "username = input(\"Masukkan username : \")\n",
        "password = input(\"Masukkan password : \")\n",
        "\n",
        "if username == \"rpe\" and password == \"inrpewetrust\":\n",
        "    print(\"Terhubung\")\n",
        "else:\n",
        "    print(\"Gagal Terhubung\")\n"
      ],
      "metadata": {
        "colab": {
          "base_uri": "https://localhost:8080/"
        },
        "id": "4jmkGJpY3oLK",
        "outputId": "abdc00c4-e895-43bd-aa43-58ff126a6fab"
      },
      "execution_count": null,
      "outputs": [
        {
          "output_type": "stream",
          "name": "stdout",
          "text": [
            "Masukkan username : rpe\n",
            "Masukkan password : inrpewetrust\n",
            "Terhubung\n"
          ]
        }
      ]
    },
    {
      "cell_type": "code",
      "source": [
        "# Program untuk mengecek bonus dan diskon\n",
        "\n",
        "# Input total belanja\n",
        "total_belanja = input(\"Total belanja: Rp \")\n",
        "\n",
        "# Jumlah yang harus dibayar awalnya sama dengan total belanja\n",
        "bayar = int(total_belanja)\n",
        "\n",
        "# Jika belanja di atas Rp100.000 maka dapat bonus dan diskon\n",
        "if int(total_belanja) >= 100000:\n",
        "    print(\"Wah, Selamat! Karena belanja > Rp. 100.000 Anda Mendapat Voucher Makan dan Diskon Sebesar 5%\")\n",
        "\n",
        " # Hitung diskon\n",
        "    diskon = int(total_belanja) * 5/100\n",
        "    bayar = int(total_belanja) - diskon\n",
        "\n",
        "# Cetak struk\n",
        "print(f\"Total Yang arus Dibayar: Rp {bayar:,.0f}\")\n",
        "print(\"Terima Kasih Sudah Berbelanja di Toko Kami ^,^\")\n",
        "print(\"Kami Tunggu Kunjungan Anda Selanjutnya.\")"
      ],
      "metadata": {
        "colab": {
          "base_uri": "https://localhost:8080/"
        },
        "id": "kmlE-kij5OD5",
        "outputId": "6cd5b6dd-cbdc-459d-9d6c-9e8798f7429a"
      },
      "execution_count": 2,
      "outputs": [
        {
          "output_type": "stream",
          "name": "stdout",
          "text": [
            "Total belanja: Rp 329000\n",
            "Wah, Selamat! Karena belanja > Rp. 100.000 Anda Mendapat Voucher Makan dan Diskon Sebesar 5%\n",
            "Total Yang arus Dibayar: Rp 312,550\n",
            "Terima Kasih Sudah Berbelanja di Toko Kami ^,^\n",
            "Kami Tunggu Kunjungan Anda Selanjutnya.\n"
          ]
        }
      ]
    },
    {
      "cell_type": "code",
      "source": [
        "# Praktikum 3 (pertemuan 4) (if)\n",
        "ada_notifikasi_baru : bool = True\n",
        "\n",
        "if ada_notifikasi_baru:\n",
        "    print(\"Anda memiliki pesan baru ^,^ \")\n",
        "\n",
        "else :\n",
        "    print(\"Tidak ada pesan baru ;( \")"
      ],
      "metadata": {
        "colab": {
          "base_uri": "https://localhost:8080/"
        },
        "id": "YRBk4WqBUh2P",
        "outputId": "51609d18-72d2-4e6e-f098-1b3f5006ebdf"
      },
      "execution_count": null,
      "outputs": [
        {
          "output_type": "stream",
          "name": "stdout",
          "text": [
            "Anda memiliki pesan baru ^,^ \n"
          ]
        }
      ]
    },
    {
      "cell_type": "code",
      "source": [
        "# Praktikum 4 (pertemuan 4) (if - else)\n",
        "umur = input(\"umur kamu? : \")\n",
        "\n",
        "if int(umur) >= 18:\n",
        "    print(\"Kamu sudah bisa membuat SIM\")\n",
        "else:\n",
        "    print(\"Kamu belum bisa membuat SIM\")"
      ],
      "metadata": {
        "colab": {
          "base_uri": "https://localhost:8080/"
        },
        "id": "ApcS_sFARm2d",
        "outputId": "17dce113-edc9-40b0-d7a9-ea1ce002c5b4"
      },
      "execution_count": 4,
      "outputs": [
        {
          "output_type": "stream",
          "name": "stdout",
          "text": [
            "umur kamu? : 12\n",
            "Kamu belum bisa membuat SIM\n"
          ]
        }
      ]
    },
    {
      "cell_type": "code",
      "source": [
        "# Praktikum 5 (pertemuan 4) (if - else)\n",
        "total_belanja = int(input(\"Total belanja: Rp \"))\n",
        "\n",
        "if total_belanja > 20000:\n",
        "  diskon = total_belanja * 0.10\n",
        "  total_bayar = total_belanja - diskon\n",
        "  print(f\"Anda mendapat diskon!\")\n",
        "  print(f\"Total bayar: Rp {total_bayar:,.0f}\")\n",
        "\n",
        "else :\n",
        "  print(f\"Total bayar: Rp {total_belanja:,.0f}\")\n"
      ],
      "metadata": {
        "colab": {
          "base_uri": "https://localhost:8080/"
        },
        "id": "peJmwQBgR-zZ",
        "outputId": "da24f023-fdcc-4914-926a-c9792ff4d2a9"
      },
      "execution_count": 5,
      "outputs": [
        {
          "output_type": "stream",
          "name": "stdout",
          "text": [
            "Total belanja: Rp 25000\n",
            "Anda mendapat diskon!\n",
            "Total bayar: Rp 22,500\n"
          ]
        }
      ]
    },
    {
      "cell_type": "code",
      "source": [
        "# Praktikum 6 (pertemuan 4) (if - else)\n",
        "angka = int(input(\"Masukkan bilangan: \"))\n",
        "\n",
        "if angka % 2 == 0:\n",
        "  print(f\"{angka} adalah angka genap\")\n",
        "else:\n",
        "  print(f\"{angka} adalah angka ganjil\")\n"
      ],
      "metadata": {
        "colab": {
          "base_uri": "https://localhost:8080/"
        },
        "id": "Ny2FY6XmVb3S",
        "outputId": "6a179d78-02d0-4faa-a108-bb470c2f0ed5"
      },
      "execution_count": 6,
      "outputs": [
        {
          "output_type": "stream",
          "name": "stdout",
          "text": [
            "Masukkan bilangan: 14\n",
            "14 adalah angka genap\n"
          ]
        }
      ]
    },
    {
      "cell_type": "code",
      "source": [
        " # Praktikum 7 (pertemuan 4) (if - elif - else)\n",
        "\n",
        "nilai = int(input(\"Masukkan nilai: \"))\n",
        "if nilai >= 85:\n",
        "  print(\"Luar biasa! Nilai A\")\n",
        "elif nilai >= 70:\n",
        "  print(\"Bagus! Nilai B\")\n",
        "elif nilai >= 60:\n",
        "  print(\"Cukup. Nilai C\")\n",
        "else:\n",
        "  print(\"Nilai kurang, ayo lebih giat lagi :)\")"
      ],
      "metadata": {
        "colab": {
          "base_uri": "https://localhost:8080/"
        },
        "id": "WCZBFHV32bKi",
        "outputId": "177c5361-b3b7-426e-8e82-f53d7aab7ddb"
      },
      "execution_count": 9,
      "outputs": [
        {
          "output_type": "stream",
          "name": "stdout",
          "text": [
            "Masukkan nilai: 47\n",
            "Nilai kurang, ayo lebih giat lagi :)\n"
          ]
        }
      ]
    },
    {
      "cell_type": "code",
      "source": [
        "# Praktikum 8 (pertemuan 4) (if - elif - else)\n",
        "\n",
        "# Menentukan jenis diskon berdasarkan hari\n",
        "hari: str = input(\"Masukkan hari: \")\n",
        "\n",
        "if hari == \"sabtu\" or hari == \"minggu\":\n",
        "    diskon: float = 0.20\n",
        "    print(f\"Selamat berakhir pekan! Anda mendapat diskon akhir pekan sebesar {diskon*100:,.0f}%.\")\n",
        "\n",
        "elif hari == \"jumat\":\n",
        "    diskon: float = 0.15\n",
        "    print(f\"Diskon spesial jumat berkah! Anda mendapat potongan {diskon*100:,.0f}%.\")\n",
        "\n",
        "else:\n",
        "    diskon: float = 0.05\n",
        "    print(f\"Anda mendapat diskon hari biasa sebesar {diskon*100:,.0f}%.\")"
      ],
      "metadata": {
        "colab": {
          "base_uri": "https://localhost:8080/"
        },
        "id": "dL4FOZVR5J2w",
        "outputId": "bb8b898a-ae2f-480d-9757-04467c6cebcc"
      },
      "execution_count": 10,
      "outputs": [
        {
          "output_type": "stream",
          "name": "stdout",
          "text": [
            "Masukkan hari: jumat\n",
            "Diskon spesial jumat berkah! Anda mendapat potongan 15%.\n"
          ]
        }
      ]
    },
    {
      "cell_type": "code",
      "source": [
        "# Praktikum 9 (pertemuan 4) (if - elif - else)\n",
        "\n",
        "rupiah = int(input(\"Masukkan jumlah uang (Rp): \"))\n",
        "print(\"1. Dollar (USD)\")\n",
        "print(\"2. Euro (EUR)\")\n",
        "print(\"3. Yen (JPY)\")\n",
        "pilih = int(input(\"Pilih konversi (1/2/3): \"))\n",
        "\n",
        "if pilih == 1:\n",
        "  print(\"Dalam (USD):\", rupiah / 15000, \"Dollar\")\n",
        "\n",
        "elif pilih == 2:\n",
        "  print(\"Dalam (EUR) :\", rupiah / 16000, \"Euro\")\n",
        "\n",
        "elif pilih == 3:\n",
        "  print(\"Dalam (JPY) :\", rupiah / 120, \"Yen\")\n",
        "\n",
        "else:\n",
        "  print(\"Pilihan tidak tersedia.\")\n",
        ""
      ],
      "metadata": {
        "colab": {
          "base_uri": "https://localhost:8080/"
        },
        "id": "jCy-d6rP62BS",
        "outputId": "116d5b94-196a-480b-ee0b-da6e437da45d"
      },
      "execution_count": 11,
      "outputs": [
        {
          "output_type": "stream",
          "name": "stdout",
          "text": [
            "Masukkan jumlah uang (Rp): 31000\n",
            "1. Dollar (USD)\n",
            "2. Euro (EUR)\n",
            "3. Yen (JPY)\n",
            "Pilih konversi (1/2/3): 3\n",
            "Dalam (JPY) : 258.3333333333333 Yen\n"
          ]
        }
      ]
    },
    {
      "cell_type": "code",
      "source": [],
      "metadata": {
        "id": "mujAAN0H9SRp"
      },
      "execution_count": null,
      "outputs": []
    }
  ]
}