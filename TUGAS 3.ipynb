{
  "nbformat": 4,
  "nbformat_minor": 0,
  "metadata": {
    "colab": {
      "provenance": [],
      "authorship_tag": "ABX9TyO1a31NUrdN1RJrDcDJIm2e",
      "include_colab_link": true
    },
    "kernelspec": {
      "name": "python3",
      "display_name": "Python 3"
    },
    "language_info": {
      "name": "python"
    }
  },
  "cells": [
    {
      "cell_type": "markdown",
      "metadata": {
        "id": "view-in-github",
        "colab_type": "text"
      },
      "source": [
        "<a href=\"https://colab.research.google.com/github/fardilladr/Pemerograman-Dasar/blob/main/TUGAS%203.ipynb\" target=\"_parent\"><img src=\"https://colab.research.google.com/assets/colab-badge.svg\" alt=\"Open In Colab\"/></a>"
      ]
    },
    {
      "cell_type": "code",
      "source": [
        "# Program Kasir Sederhana (  dhollatte   )\n",
        "\n",
        "# Input Menu\n",
        "Caramel_Macchiato = int(input(\"Jumlah Caramel Macchiato (Rp 25.000): \"))\n",
        "Caramel_Cream_Frappucino = int(input(\"Jumlah Caramel Cream Frappucino (Rp 35.000): \"))\n",
        "Scarlet_Velvet_Cake= int(input(\"Jumlah Scarlet Velvet Cake (Rp 15.000): \"))\n",
        "\n",
        "# Input status member\n",
        "member = int(input(\"Member? (1=Ya, 0=Tidak): \"))\n",
        "\n",
        "# Harga Menu\n",
        "harga_Caramel_Macchiato = 25000\n",
        "harga_Caramel_Cream_Frappucino = 35000\n",
        "harga_Scarlet_Velvet_Cake = 15000\n",
        "\n",
        "# Hitung jumlah pembelian\n",
        "subtotal = (Caramel_Macchiato * harga_Caramel_Macchiato) + \\\n",
        "           (Caramel_Cream_Frappucino * harga_Caramel_Cream_Frappucino) + \\\n",
        "           (Scarlet_Velvet_Cake * harga_Scarlet_Velvet_Cake)\n",
        "\n",
        "# Syarat diskon\n",
        "syarat_diskon = (subtotal > 100000) * member\n",
        "\n",
        "# Jumlah diskon\n",
        "diskon = syarat_diskon * 0.15 * subtotal\n",
        "\n",
        "# Harga setelah diskon\n",
        "setelah_diskon = subtotal - diskon\n",
        "\n",
        "# Hitung PPN (11%)\n",
        "ppn = 0.11 * setelah_diskon\n",
        "\n",
        "# Total yang harus dibayar\n",
        "total = setelah_diskon + ppn\n",
        "\n",
        "print(\"     ^^^^^ dhollatte ^^^^^\")\n",
        "print(f\"Caramel Macchiato x{Caramel_Macchiato}: Rp. {(Caramel_Macchiato * harga_Caramel_Macchiato):,.0f}\")\n",
        "print(f\"Caramel Cream Frappucino x{Caramel_Cream_Frappucino}: Rp. {(Caramel_Cream_Frappucino* harga_Caramel_Cream_Frappucino):,.0f}\")\n",
        "print(f\"Scarlet Velvet Cake x{Scarlet_Velvet_Cake}: Rp. {(Scarlet_Velvet_Cake * harga_Scarlet_Velvet_Cake):,.0f}\")\n",
        "print(\"-----------------------------\")\n",
        "print(f\"Subtotal        : Rp. {subtotal:,.0f}\")\n",
        "print(f\"Diskon          : Rp. {diskon:,.0f}\")\n",
        "print(f\"Setelah Diskon  : Rp. {setelah_diskon:,.0f}\")\n",
        "print(f\"PPN 11%         : Rp. {ppn:,.0f}\")\n",
        "print(f\"Total Bayar     : Rp. {total:,.0f}\")"
      ],
      "metadata": {
        "colab": {
          "base_uri": "https://localhost:8080/"
        },
        "id": "53-ZAP2Rqh0w",
        "outputId": "997e9e1e-bdde-45e9-94f6-e6e33da31b78"
      },
      "execution_count": 26,
      "outputs": [
        {
          "output_type": "stream",
          "name": "stdout",
          "text": [
            "Jumlah Caramel Macchiato (Rp 25.000): 3\n",
            "Jumlah Caramel Cream Frappucino (Rp 35.000): 2\n",
            "Jumlah Scarlet Velvet Cake (Rp 15.000): 6\n",
            "Member? (1=Ya, 0=Tidak): 1\n",
            "     ^^^^^ dhollatte ^^^^^\n",
            "Caramel Macchiato x3: Rp. 75,000\n",
            "Caramel Cream Frappucino x2: Rp. 70,000\n",
            "Scarlet Velvet Cake x6: Rp. 90,000\n",
            "-----------------------------\n",
            "Subtotal        : Rp. 235,000\n",
            "Diskon          : Rp. 35,250\n",
            "Setelah Diskon  : Rp. 199,750\n",
            "PPN 11%         : Rp. 21,972\n",
            "Total Bayar     : Rp. 221,722\n"
          ]
        }
      ]
    }
  ]
}