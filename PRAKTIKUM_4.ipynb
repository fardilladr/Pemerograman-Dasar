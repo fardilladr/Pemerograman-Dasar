{
  "nbformat": 4,
  "nbformat_minor": 0,
  "metadata": {
    "colab": {
      "provenance": [],
      "authorship_tag": "ABX9TyNOkQ5gcNu3r8D6qZ1DR/B/",
      "include_colab_link": true
    },
    "kernelspec": {
      "name": "python3",
      "display_name": "Python 3"
    },
    "language_info": {
      "name": "python"
    }
  },
  "cells": [
    {
      "cell_type": "markdown",
      "metadata": {
        "id": "view-in-github",
        "colab_type": "text"
      },
      "source": [
        "<a href=\"https://colab.research.google.com/github/fardilladr/Pemrograman-Dasar/blob/main/PRAKTIKUM_4.ipynb\" target=\"_parent\"><img src=\"https://colab.research.google.com/assets/colab-badge.svg\" alt=\"Open In Colab\"/></a>"
      ]
    },
    {
      "cell_type": "code",
      "execution_count": null,
      "metadata": {
        "colab": {
          "base_uri": "https://localhost:8080/"
        },
        "id": "kfc8601Z0t4B",
        "outputId": "b659d568-28b5-43a7-d878-51afa9426227"
      },
      "outputs": [
        {
          "output_type": "stream",
          "name": "stdout",
          "text": [
            "Berapa umur anda? 12\n",
            "Pengunjung adalah anak-anak\n"
          ]
        }
      ],
      "source": [
        "# Praktikum 1 (pertemuan 4) (if)\n",
        "\n",
        "# Variabel untuk menyimpan umur pengunjung\n",
        "\n",
        "umur= int(input(\"Berapa umur anda? \"))\n",
        "\n",
        "if umur > 17:\n",
        "   print(\"Pengunjung adalah orang dewasa\")\n",
        "if umur < 17:\n",
        "   print(\"Pengunjung adalah anak-anak\")\n"
      ]
    },
    {
      "cell_type": "code",
      "source": [
        "# Praktikum 2 (pertemuan 4) (if)\n",
        "username = input(\"Masukkan username : \")\n",
        "password = input(\"Masukkan password : \")\n",
        "\n",
        "if username == \"rpe\" and password == \"inrpewetrust\":\n",
        "    print(\"Terhubung\")\n",
        "else:\n",
        "    print(\"Gagal Terhubung\")\n"
      ],
      "metadata": {
        "colab": {
          "base_uri": "https://localhost:8080/"
        },
        "id": "4jmkGJpY3oLK",
        "outputId": "a52794cf-e668-46df-91e8-8fcd561e6bb8"
      },
      "execution_count": 12,
      "outputs": [
        {
          "output_type": "stream",
          "name": "stdout",
          "text": [
            "Masukkan username : rpe\n",
            "Masukkan password : inrpewetrust\n",
            "Terhubung\n"
          ]
        }
      ]
    },
    {
      "cell_type": "code",
      "source": [
        "# Program untuk mengecek bonus dan diskon\n",
        "\n",
        "# Input total belanja\n",
        "total_belanja = input(\"Total belanja: Rp \")\n",
        "\n",
        "# Jumlah yang harus dibayar awalnya sama dengan total belanja\n",
        "bayar = int(total_belanja)\n",
        "\n",
        "# Jika belanja di atas Rp100.000 maka dapat bonus dan diskon\n",
        "if int(total_belanja) >= 100000:\n",
        "    print(\"Wah, Selamat! Karena belanja > Rp. 100.000 Anda Mendapat Voucher Makan dan Diskon Sebesar 5%\")\n",
        "\n",
        " # Hitung diskon\n",
        "    diskon = int(total_belanja) * 5/100\n",
        "    bayar = int(total_belanja) - diskon\n",
        "\n",
        "# Cetak struk\n",
        "print(f\"Total Yang arus Dibayar: Rp {bayar:,.0f}\")\n",
        "print(\"Terima Kasih Sudah Berbelanja di Toko Kami ^,^\")\n",
        "print(\"Kami Tunggu Kunjungan Anda Selanjutnya.\")"
      ],
      "metadata": {
        "colab": {
          "base_uri": "https://localhost:8080/"
        },
        "id": "kmlE-kij5OD5",
        "outputId": "35da8650-8910-4f3f-deac-6596710e8d5e"
      },
      "execution_count": null,
      "outputs": [
        {
          "output_type": "stream",
          "name": "stdout",
          "text": [
            "Total belanja: Rp 432000\n",
            "Wah, Selamat! Karena belanja > Rp. 100.000 Anda Mendapat Voucher Makan dan Diskon Sebesar 5%\n",
            "Total Yang arus Dibayar: Rp 410,400\n",
            "Terima Kasih Sudah Berbelanja di Toko Kami ^,^\n",
            "Kami Tunggu Kunjungan Anda Selanjutnya.\n"
          ]
        }
      ]
    },
    {
      "cell_type": "code",
      "source": [
        "# Praktikum 3 (pertemuan 4) (if)\n",
        "ada_notifikasi_baru : bool = True\n",
        "\n",
        "if ada_notifikasi_baru:\n",
        "    print(\"Anda memiliki pesan baru ^,^ \")\n",
        "\n",
        "else :\n",
        "    print(\"Tidak ada pesan baru ;( \")"
      ],
      "metadata": {
        "colab": {
          "base_uri": "https://localhost:8080/"
        },
        "id": "YRBk4WqBUh2P",
        "outputId": "51609d18-72d2-4e6e-f098-1b3f5006ebdf"
      },
      "execution_count": 5,
      "outputs": [
        {
          "output_type": "stream",
          "name": "stdout",
          "text": [
            "Anda memiliki pesan baru ^,^ \n"
          ]
        }
      ]
    },
    {
      "cell_type": "code",
      "source": [
        "# Praktikum 4 (pertemuan 4) (if - else)\n",
        "umur = input(\"umur kamu? : \")\n",
        "\n",
        "if int(umur) >= 18:\n",
        "    print(\"Kamu sudah bisa membuat SIM\")\n",
        "else:\n",
        "    print(\"Kamu belum bisa membuat SIM\")"
      ],
      "metadata": {
        "colab": {
          "base_uri": "https://localhost:8080/"
        },
        "id": "ApcS_sFARm2d",
        "outputId": "783f3ebd-ea6c-4600-efe5-64c563bdf785"
      },
      "execution_count": 14,
      "outputs": [
        {
          "output_type": "stream",
          "name": "stdout",
          "text": [
            "umur kamu? : 23\n",
            "Kamu sudah bisa membuat SIM\n"
          ]
        }
      ]
    },
    {
      "cell_type": "code",
      "source": [
        "# Praktikum 5 (pertemuan 4) (if - else)\n",
        "total_belanja = int(input(\"Total belanja: Rp \"))\n",
        "\n",
        "if total_belanja > 20000:\n",
        "  diskon = total_belanja * 0.10\n",
        "  total_bayar = total_belanja - diskon\n",
        "  print(f\"Anda mendapat diskon!\")\n",
        "  print(f\"Total bayar: Rp {total_bayar:,.0f}\")\n",
        "\n",
        "else :\n",
        "  print(f\"Total bayar: Rp {total_belanja:,.0f}\")\n"
      ],
      "metadata": {
        "colab": {
          "base_uri": "https://localhost:8080/"
        },
        "id": "peJmwQBgR-zZ",
        "outputId": "6c05c4a1-b33b-43d7-9c8a-750dfb285a80"
      },
      "execution_count": 16,
      "outputs": [
        {
          "output_type": "stream",
          "name": "stdout",
          "text": [
            "Total belanja: Rp 34000\n",
            "Anda mendapat diskon!\n",
            "Total bayar: Rp 30,600\n"
          ]
        }
      ]
    },
    {
      "cell_type": "code",
      "source": [
        "# Praktikum 6 (pertemuan 4) (if - else)\n",
        "angka = int(input(\"Masukkan bilangan: \"))\n",
        "\n",
        "if angka % 2 == 0:\n",
        "  print(f\"{angka} adalah angka genap\")\n",
        "else:\n",
        "  print(f\"{angka} adalah angka ganjil\")\n"
      ],
      "metadata": {
        "colab": {
          "base_uri": "https://localhost:8080/"
        },
        "id": "Ny2FY6XmVb3S",
        "outputId": "48412695-aba2-4a81-e34f-5408910c1917"
      },
      "execution_count": 13,
      "outputs": [
        {
          "output_type": "stream",
          "name": "stdout",
          "text": [
            "Masukkan bilangan: 14\n",
            "14 adalah angka genap\n"
          ]
        }
      ]
    },
    {
      "cell_type": "code",
      "source": [
        "# Praktikum 7 (pertemuan 4) (if - elif - else)\n",
        "\n",
        "nilai = int(input(\"Masukkan nilai: \"))\n",
        "if nilai >= 85:\n",
        "  print(\"Luar biasa! Nilai A\")\n",
        "elif nilai >= 70:\n",
        "  print(\"Bagus! Nilai B\")\n",
        "elif nilai >= 60:\n",
        "  print(\"Cukup. Nilai C\")\n",
        "else:\n",
        "  print(\"Nilai kurang, ayo lebih giat lagi :)\")"
      ],
      "metadata": {
        "colab": {
          "base_uri": "https://localhost:8080/"
        },
        "id": "WCZBFHV32bKi",
        "outputId": "936fcaeb-c3cc-4f53-d098-1907b023796e"
      },
      "execution_count": 7,
      "outputs": [
        {
          "output_type": "stream",
          "name": "stdout",
          "text": [
            "Masukkan nilai: 47\n",
            "Nilai kurang, ayo lebih giat lagi :)\n"
          ]
        }
      ]
    },
    {
      "cell_type": "code",
      "source": [
        "# Praktikum 8 (pertemuan 4) (if - elif - else)\n",
        "\n",
        "# Menentukan jenis diskon berdasarkan hari\n",
        "hari: str = input(\"Masukkan hari: \")\n",
        "\n",
        "if hari == \"sabtu\" or hari == \"minggu\":\n",
        "    diskon: float = 0.20\n",
        "    print(f\"Selamat berakhir pekan! Anda mendapat diskon akhir pekan sebesar {diskon*100:,.0f}%.\")\n",
        "elif hari == \"jumat\":\n",
        "    diskon: float = 0.15\n",
        "    print(f\"Diskon spesial jumat berkah! Anda mendapat potongan {diskon*100:,.0f}%.\")\n",
        "else:\n",
        "    diskon: float = 0.05\n",
        "    print(f\"Anda mendapat diskon hari biasa sebesar {diskon*100:,.0f}%.\")"
      ],
      "metadata": {
        "colab": {
          "base_uri": "https://localhost:8080/"
        },
        "id": "dL4FOZVR5J2w",
        "outputId": "37f00450-c969-4f0e-c2cf-979e2754f063"
      },
      "execution_count": 9,
      "outputs": [
        {
          "output_type": "stream",
          "name": "stdout",
          "text": [
            "Masukkan hari: jumat\n",
            "Diskon spesial jumat berkah! Anda mendapat potongan 15%.\n"
          ]
        }
      ]
    },
    {
      "cell_type": "code",
      "source": [
        "# Praktikum 9 (pertemuan 4) (if - elif - else)\n",
        "\n",
        "rupiah = int(input(\"Masukkan jumlah uang (Rp): \"))\n",
        "print(\"1. Dollar (USD)\")\n",
        "print(\"2. Euro (EUR)\")\n",
        "print(\"3. Yen (JPY)\")\n",
        "pilih = int(input(\"Pilih konversi (1/2/3): \"))\n",
        "\n",
        "if pilih == 1:\n",
        "  print(\"Dalam (USD):\", rupiah / 15000, \"Dollar\")\n",
        "elif pilih == 2:\n",
        "  print(\"Dalam (EUR) :\", rupiah / 16000, \"Euro\")\n",
        "elif pilih == 3:\n",
        "  print(\"Dalam (JPY) :\", rupiah / 120, \"Yen\")\n",
        "else:\n",
        "  print(\"Pilihan tidak tersedia.\")"
      ],
      "metadata": {
        "colab": {
          "base_uri": "https://localhost:8080/"
        },
        "id": "jCy-d6rP62BS",
        "outputId": "d317abd8-995a-4bd5-e7b2-1fbf758450ee"
      },
      "execution_count": 11,
      "outputs": [
        {
          "output_type": "stream",
          "name": "stdout",
          "text": [
            "Masukkan jumlah uang (Rp): 31000\n",
            "1. Dollar (USD)\n",
            "2. Euro (EUR)\n",
            "3. Yen (JPY)\n",
            "Pilih konversi (1/2/3): 3\n",
            "Dalam (JPY) : 258.3333333333333 Yen\n"
          ]
        }
      ]
    },
    {
      "cell_type": "code",
      "source": [],
      "metadata": {
        "id": "mujAAN0H9SRp"
      },
      "execution_count": null,
      "outputs": []
    }
  ]
}