{
  "nbformat": 4,
  "nbformat_minor": 0,
  "metadata": {
    "colab": {
      "provenance": [],
      "authorship_tag": "ABX9TyN5YOBpLj7LIq/+oBSvn6E5",
      "include_colab_link": true
    },
    "kernelspec": {
      "name": "python3",
      "display_name": "Python 3"
    },
    "language_info": {
      "name": "python"
    }
  },
  "cells": [
    {
      "cell_type": "markdown",
      "metadata": {
        "id": "view-in-github",
        "colab_type": "text"
      },
      "source": [
        "<a href=\"https://colab.research.google.com/github/fardilladr/Pemrograman-Dasar/blob/main/PERTEMUAN%203.ipynb\" target=\"_parent\"><img src=\"https://colab.research.google.com/assets/colab-badge.svg\" alt=\"Open In Colab\"/></a>"
      ]
    },
    {
      "cell_type": "code",
      "source": [
        " Praktikum 1 (pertemuan 3)\n",
        "total = float(input(\"Berapa porsi makan yang Anda beli? : \"))\n",
        "Nama  = str(input(\"Siapa Nama Pelanggan ? : \"))\n",
        "\n",
        "print('--Detail Pembelian--')\n",
        "print(\"Nama Pelanggan :\", Nama)\n",
        "print(\"Total Porsi    :\", total)\n"
      ],
      "metadata": {
        "colab": {
          "base_uri": "https://localhost:8080/"
        },
        "id": "C5kJe3uT17xV",
        "outputId": "294803b6-f83c-4041-9c12-e201feccfac1"
      },
      "execution_count": null,
      "outputs": [
        {
          "output_type": "stream",
          "name": "stdout",
          "text": [
            "Berapa porsi makan yang Anda beli? : 29\n",
            "Siapa Nama Pelanggan ? : dholladoll\n",
            "--Detail Pembelian--\n",
            "Nama Pelanggan : dholladoll\n",
            "Total Porsi    : 29.0\n"
          ]
        }
      ]
    },
    {
      "cell_type": "code",
      "source": [
        "# Praktikum 2 (pertemuan 3)\n",
        "food = \"Chicken egg roll\"\n",
        "jumlah_porsi= 8\n",
        "harga = 29.300\n",
        "\n",
        "# Integer (%d)\n",
        "jumlah_porsi = 8\n",
        "print(\"dholladoll sedang memesan = %d porsi \" % (jumlah_porsi))\n",
        "# Float (%f)\n",
        "print(f\"Harga per porsi = Rp. {harga:.3f}\")\n",
        "# String (%s)\n",
        "print(\"dholladoll sangat menyukai %s\" % food)\n",
        "# Hexadecimal (%x)\n",
        "print(\"Jumlah pesanan (hexa) = %x\" % jumlah_porsi)\n",
        "# Octal (%o)\n",
        "print(\"Jumlah pesanan (octal) = %o\" % jumlah_porsi)"
      ],
      "metadata": {
        "colab": {
          "base_uri": "https://localhost:8080/"
        },
        "id": "ywPOp_gm3WOB",
        "outputId": "adf510d4-1f80-4bae-bc85-3ddf8418c93b"
      },
      "execution_count": null,
      "outputs": [
        {
          "output_type": "stream",
          "name": "stdout",
          "text": [
            "dholladoll sedang memesan = 8 porsi \n",
            "Harga per porsi = Rp. 29.300\n",
            "dholladoll sangat menyukai Chicken egg roll\n",
            "Jumlah pesanan (hexa) = 8\n",
            "Jumlah pesanan (octal) = 10\n"
          ]
        }
      ]
    },
    {
      "cell_type": "code",
      "source": [
        "# Praktikum 3 (pertemuan 3)\n",
        "# Kalkulator sederhana\n",
        "\n",
        "a = 8\n",
        "b = 3\n",
        "print(\"Penjumlahan:\", a + b)\n",
        "print(\"Pengurangan:\", a - b)\n",
        "print(\"Perkalian:\", a * b)\n",
        "print(\"Pembagian:\", a / b)"
      ],
      "metadata": {
        "colab": {
          "base_uri": "https://localhost:8080/"
        },
        "id": "GpKNYKU7X17g",
        "outputId": "15300c5d-10cc-45c3-f5a5-514e2efa4092"
      },
      "execution_count": null,
      "outputs": [
        {
          "output_type": "stream",
          "name": "stdout",
          "text": [
            "Penjumlahan: 11\n",
            "Pengurangan: 5\n",
            "Perkalian: 24\n",
            "Pembagian: 2.6666666666666665\n"
          ]
        }
      ]
    },
    {
      "cell_type": "code",
      "source": [
        "# Praktikum 4 (pertemuan 3)\n",
        "# Kalkulator Kasir\n",
        "harga_makan = float(input(\"Berapa harga dimsum mentai per porsi?\" ))\n",
        "\n",
        "jumlah_makan = int(input(\"Berapa porsi yang dholladoll ingin beli?\"))\n",
        "\n",
        "total_makan = harga_makan * jumlah_makan\n",
        "\n",
        "nama  = str(input(\"nama pembeli? \"))\n",
        "\n",
        "print(\"--Detail Pembelian--\")\n",
        "print(f\"Nama pembeli        = {nama}\")\n",
        "print(f\"Total Pembelian     = Rp. {total_makan:,.0f}\")"
      ],
      "metadata": {
        "colab": {
          "base_uri": "https://localhost:8080/"
        },
        "id": "v1pP_B7jSiLX",
        "outputId": "4aaf863b-130d-42de-9c64-0993593725fd"
      },
      "execution_count": null,
      "outputs": [
        {
          "output_type": "stream",
          "name": "stdout",
          "text": [
            "Berapa harga dimsum mentai per porsi?29000\n",
            "Berapa porsi yang dholladoll ingin beli?2\n",
            "nama pembeli? dholladoll\n",
            "--Detail Pembelian--\n",
            "Nama pembeli        = dholladoll\n",
            "Total Pembelian     = Rp. 58,000\n"
          ]
        }
      ]
    },
    {
      "cell_type": "code",
      "source": [
        "# Praktikum 5 (pertemuan 3)\n",
        "# Mengecek bilangan\n",
        "bilangan = 8\n",
        "hasil = (bilangan > 0) and (bilangan % 2 == 0)\n",
        "print(\"Genap dan positif?\", hasil)"
      ],
      "metadata": {
        "colab": {
          "base_uri": "https://localhost:8080/"
        },
        "id": "v4-1pkHCSgOw",
        "outputId": "428b45bb-2dc5-4ea0-e062-e715b6fdc421"
      },
      "execution_count": null,
      "outputs": [
        {
          "output_type": "stream",
          "name": "stdout",
          "text": [
            "Genap dan positif? True\n"
          ]
        }
      ]
    },
    {
      "cell_type": "code",
      "source": [
        "# Praktikum 6 (pertemuan 3)\n",
        "# Konversi waktu\n",
        "total_detik = int(input(\"Masukkan total detik: \"))\n",
        "\n",
        "jam = total_detik // 3600\n",
        "\n",
        "sisa_detik = total_detik % 3600\n",
        "\n",
        "menit = sisa_detik // 60\n",
        "\n",
        "detik = sisa_detik % 60\n",
        "\n",
        "print(f\"Hasil konversi: {jam} jam, {menit} menit, {detik} detik\")"
      ],
      "metadata": {
        "colab": {
          "base_uri": "https://localhost:8080/"
        },
        "id": "M3iERz_lZtKW",
        "outputId": "adbe47b1-e5c1-41e9-80e7-c40387d48256"
      },
      "execution_count": null,
      "outputs": [
        {
          "output_type": "stream",
          "name": "stdout",
          "text": [
            "Masukkan total detik: 358200\n",
            "Hasil konversi: 99 jam, 30 menit, 0 detik\n"
          ]
        }
      ]
    },
    {
      "cell_type": "code",
      "source": [
        "# Praktikum 7 (pertemuan 3)\n",
        "# Menghitung nilai akhir mahasiswa\n",
        "nama = str(input(\"Masukkan nama mahasiswa: \"))\n",
        "nim = str(input(\"Masukkan NIM : \"))\n",
        "prodi = str(input(\"Masukkan program studi mahasiswa: \"))\n",
        "tugas = float(input(\"Masukkan nilai Tugas: \"))\n",
        "kuis = float(input(\"Masukkan nilai Kuis: \"))\n",
        "praktikum = float(input(\"Masukkan nilai Praktikum: \"))\n",
        "partisipatif = float(input(\"Masukkan nilai Kehadiran: \"))\n",
        "uts = float(input(\"Masukkan nilai UTS: \"))\n",
        "uas = float(input(\"Masukkan nilai UAS: \"))\n",
        "\n",
        "# Standar kelulusan\n",
        "standar_kelulusan = float(input(\"Masukkan standar kelulusan: \"))\n",
        "\n",
        "# Hitung nilai akhir (bobot tergantung aturan kampus)\n",
        "nilai_mahasiswa = (0.2 * tugas) + (0.1 * kuis) + (0.1 * praktikum) + (0.2 * uts) + (0.3 * uas) + (0.1 * partisipatif)\n",
        "print(\"Nilai Akhir: \", nilai_mahasiswa)\n",
        "\n",
        "# Keterangan kelulusan\n",
        "apakah_lulus = nilai_mahasiswa >= standar_kelulusan\n",
        "perlu_remedial = nilai_mahasiswa < standar_kelulusan\n",
        "print(\"--DATA KELULUSAN MAHASISWA--\")\n",
        "print(f\"Nama              : {nama}\")\n",
        "print(f\"NIM               : {nim}\")\n",
        "print(f\"Program Studi     : {prodi}\")\n",
        "print(f\"Nilai Akhir       : {nilai_mahasiswa}\")\n",
        "print(f\"Standar Kelulusan : {standar_kelulusan}\")\n",
        "print(f\"Status Kelulusan  : {apakah_lulus}\")\n",
        "print(f\"Remedial          : {perlu_remedial}\")"
      ],
      "metadata": {
        "colab": {
          "base_uri": "https://localhost:8080/"
        },
        "id": "CqjxU2lnb0gG",
        "outputId": "56f89df1-8664-47a1-a6b5-c43a9104445c"
      },
      "execution_count": null,
      "outputs": [
        {
          "output_type": "stream",
          "name": "stdout",
          "text": [
            "Masukkan nama mahasiswa: Fardilla Delti Rama\n",
            "Masukkan NIM : 4232401029\n",
            "Masukkan program studi mahasiswa: Teknologi Rekayasa Pembangkit Energi\n",
            "Masukkan nilai Tugas: 89\n",
            "Masukkan nilai Kuis: 86\n",
            "Masukkan nilai Praktikum: 92\n",
            "Masukkan nilai Kehadiran: 98\n",
            "Masukkan nilai UTS: 98\n",
            "Masukkan nilai UAS: 96\n",
            "Masukkan standar kelulusan: 88\n",
            "Nilai Akhir:  93.8\n",
            "--DATA KELULUSAN MAHASISWA--\n",
            "Nama              : Fardilla Delti Rama\n",
            "NIM               : 4232401029\n",
            "Program Studi     : Teknologi Rekayasa Pembangkit Energi\n",
            "Nilai Akhir       : 93.8\n",
            "Standar Kelulusan : 88.0\n",
            "Status Kelulusan  : True\n",
            "Remedial          : False\n"
          ]
        }
      ]
    },
    {
      "cell_type": "code",
      "source": [
        "# Praktikum 8 (pertemuan 3)\n",
        "belanja = float(input(\"Masukkan total belanja: \"))\n",
        "\n",
        "diskon_persen = 35 * (belanja > 1000000) + (5 * ((belanja > 200000) and (belanja <= 1000000)))\n",
        "\n",
        "diskon = (diskon_persen / 100) * belanja\n",
        "\n",
        "total_harga = belanja - diskon\n",
        "\n",
        "print('       --Struk Pembayaran--')\n",
        "print(f\"Total Belanja : Rp. {belanja:,.0f}\")\n",
        "print(f\"Diskon        : {diskon_persen}%\")\n",
        "print(f\"Potongan      : Rp. {diskon:,.0f}\")\n",
        "print(f\"Total Bayar   : Rp. {total_harga:,.0f}\")"
      ],
      "metadata": {
        "colab": {
          "base_uri": "https://localhost:8080/"
        },
        "id": "wbujpez1lU-C",
        "outputId": "5ed1273e-4cc9-4888-ebf5-10e7e4ee4a28"
      },
      "execution_count": null,
      "outputs": [
        {
          "output_type": "stream",
          "name": "stdout",
          "text": [
            "Masukkan total belanja: 1999999\n",
            "       --Struk Pembayaran--\n",
            "Total Belanja : Rp. 1,999,999\n",
            "Diskon        : 35%\n",
            "Potongan      : Rp. 700,000\n",
            "Total Bayar   : Rp. 1,299,999\n"
          ]
        }
      ]
    }
  ]
}