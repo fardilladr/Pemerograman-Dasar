{
  "nbformat": 4,
  "nbformat_minor": 0,
  "metadata": {
    "colab": {
      "provenance": [],
      "authorship_tag": "ABX9TyNSIsFWyLGcMUNvrR8LUJiR",
      "include_colab_link": true
    },
    "kernelspec": {
      "name": "python3",
      "display_name": "Python 3"
    },
    "language_info": {
      "name": "python"
    }
  },
  "cells": [
    {
      "cell_type": "markdown",
      "metadata": {
        "id": "view-in-github",
        "colab_type": "text"
      },
      "source": [
        "<a href=\"https://colab.research.google.com/github/fardilladr/Pemerograman-Dasar/blob/main/LATIHAN%20(PERTEMUAN%203).ipynb\" target=\"_parent\"><img src=\"https://colab.research.google.com/assets/colab-badge.svg\" alt=\"Open In Colab\"/></a>"
      ]
    },
    {
      "cell_type": "code",
      "source": [
        "# Latihan 1 (pertemuan 3)\n",
        "tahun = int(input(\"Masukkan Tahun: \"))\n",
        "\n",
        "# Cek dengan aritmatika\n",
        "k4   = tahun % 4 == 0      # habis dibagi 4\n",
        "k100 = tahun % 100 == 0    # habis dibagi 100\n",
        "k400 = tahun % 400 == 0    # habis dibagi 400\n",
        "\n",
        "# Rumus kabisat = (k4 dan bukan k100) atau k400\n",
        "nilai = (k4 * (1 - k100)) + k400\n",
        "hasil = {1: f\"{tahun} adalah tahun kabisat.\",\n",
        "         0: f\"{tahun} bukan tahun kabisat.\"}\n",
        "print(hasil[nilai])"
      ],
      "metadata": {
        "colab": {
          "base_uri": "https://localhost:8080/"
        },
        "id": "NLCP7y_FiZaS",
        "outputId": "cafba943-2673-45a0-d7f1-f2c1885dcf83"
      },
      "execution_count": 9,
      "outputs": [
        {
          "output_type": "stream",
          "name": "stdout",
          "text": [
            "Masukkan Tahun: 2005\n",
            "2005 bukan tahun kabisat.\n"
          ]
        }
      ]
    },
    {
      "cell_type": "code",
      "source": [
        "# Latihan 2 (pertemuan 3)\n",
        "\n",
        "# Menghitung luas persegi\n",
        "p = int(input(\"Masukkan panjang: \"))\n",
        "l = int(input(\"Masukkan lebar: \"))\n",
        "print(\"Luas persegi panjang =\", p * l, \"cm²\")"
      ],
      "metadata": {
        "colab": {
          "base_uri": "https://localhost:8080/"
        },
        "id": "FZ-AArr1fouT",
        "outputId": "80f8f343-0d3f-45e3-ad5c-ae3651c9785d"
      },
      "execution_count": 3,
      "outputs": [
        {
          "output_type": "stream",
          "name": "stdout",
          "text": [
            "Masukkan panjang: 29\n",
            "Masukkan lebar: 3\n",
            "Luas persegi panjang = 87 cm²\n"
          ]
        }
      ]
    }
  ]
}