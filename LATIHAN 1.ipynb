{
  "nbformat": 4,
  "nbformat_minor": 0,
  "metadata": {
    "colab": {
      "provenance": [],
      "authorship_tag": "ABX9TyMU8SpVafKx+i7iTV+uv31s",
      "include_colab_link": true
    },
    "kernelspec": {
      "name": "python3",
      "display_name": "Python 3"
    },
    "language_info": {
      "name": "python"
    }
  },
  "cells": [
    {
      "cell_type": "markdown",
      "metadata": {
        "id": "view-in-github",
        "colab_type": "text"
      },
      "source": [
        "<a href=\"https://colab.research.google.com/github/fardilladr/Pemrograman-Dasar/blob/main/LATIHAN%201.ipynb\" target=\"_parent\"><img src=\"https://colab.research.google.com/assets/colab-badge.svg\" alt=\"Open In Colab\"/></a>"
      ]
    },
    {
      "cell_type": "code",
      "source": [
        "# Latihan 1 (pertemuan 3)\n",
        "tahun = int(input(\"Masukkan Tahun: \"))\n",
        "\n",
        "# Cek dengan aritmatika\n",
        "k4   = tahun % 4 == 0      # habis dibagi 4\n",
        "k100 = tahun % 100 == 0    # habis dibagi 100\n",
        "k400 = tahun % 400 == 0    # habis dibagi 400\n",
        "\n",
        "# Rumus kabisat = (k4 dan bukan k100) atau k400\n",
        "nilai = (k4 * (1 - k100)) + k400\n",
        "hasil = {1: f\"{tahun} adalah tahun kabisat.\",\n",
        "         0: f\"{tahun} bukan tahun kabisat.\"}\n",
        "\n",
        "print(hasil[nilai])"
      ],
      "metadata": {
        "colab": {
          "base_uri": "https://localhost:8080/"
        },
        "id": "NLCP7y_FiZaS",
        "outputId": "45de8885-2d65-453a-b280-2fc6016b73a0"
      },
      "execution_count": 24,
      "outputs": [
        {
          "output_type": "stream",
          "name": "stdout",
          "text": [
            "Masukkan Tahun: 2028\n",
            "2028 adalah tahun kabisat.\n"
          ]
        }
      ]
    },
    {
      "cell_type": "code",
      "source": [
        "# Latihan 2 (pertemuan 3)\n",
        "\n",
        "# Menghitung luas persegi\n",
        "p = int(input(\"Masukkan panjang: \"))\n",
        "l = int(input(\"Masukkan lebar: \"))\n",
        "print(\"Luas persegi panjang =\", p * l, \"cm²\")"
      ],
      "metadata": {
        "colab": {
          "base_uri": "https://localhost:8080/"
        },
        "id": "FZ-AArr1fouT",
        "outputId": "f67e7e98-1ecd-4547-d82d-82799c7b9494"
      },
      "execution_count": 18,
      "outputs": [
        {
          "output_type": "stream",
          "name": "stdout",
          "text": [
            "Masukkan panjang: 29\n",
            "Masukkan lebar: 3\n",
            "Luas persegi panjang = 87 cm²\n"
          ]
        }
      ]
    }
  ]
}