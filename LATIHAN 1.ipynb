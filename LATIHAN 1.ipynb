{
  "nbformat": 4,
  "nbformat_minor": 0,
  "metadata": {
    "colab": {
      "provenance": [],
      "authorship_tag": "ABX9TyPDrvObUOwfFzkUCBhDgVrQ",
      "include_colab_link": true
    },
    "kernelspec": {
      "name": "python3",
      "display_name": "Python 3"
    },
    "language_info": {
      "name": "python"
    }
  },
  "cells": [
    {
      "cell_type": "markdown",
      "metadata": {
        "id": "view-in-github",
        "colab_type": "text"
      },
      "source": [
        "<a href=\"https://colab.research.google.com/github/fardilladr/Pemrograman-Dasar/blob/main/LATIHAN%201.ipynb\" target=\"_parent\"><img src=\"https://colab.research.google.com/assets/colab-badge.svg\" alt=\"Open In Colab\"/></a>"
      ]
    },
    {
      "cell_type": "code",
      "source": [
        "# Latihan 1 (pertemuan 3)\n",
        "tahun = int(input(\"Masukkan Tahun: \"))\n",
        "\n",
        "# Cek dengan aritmatika\n",
        "k4   = tahun % 4 == 0      # habis dibagi 4\n",
        "k100 = tahun % 100 == 0    # habis dibagi 100\n",
        "k400 = tahun % 400 == 0    # habis dibagi 400\n",
        "\n",
        "# Rumus kabisat = (k4 dan bukan k100) atau k400\n",
        "nilai = (k4 * (1 - k100)) + k400\n",
        "hasil = {1: f\"{tahun} adalah tahun kabisat.\",\n",
        "         0: f\"{tahun} bukan tahun kabisat.\"}\n",
        "\n",
        "print(hasil[nilai])"
      ],
      "metadata": {
        "id": "NLCP7y_FiZaS"
      },
      "execution_count": null,
      "outputs": []
    },
    {
      "cell_type": "code",
      "source": [
        "# Latihan 2 (pertemuan 3)\n",
        "# Menghitung luas persegi\n",
        "p = int(input(\"Masukkan panjang: \"))\n",
        "\n",
        "l = int(input(\"Masukkan lebar: \"))\n",
        "\n",
        "t = int(input(\"Masukkan tinggi: \"))\n",
        "\n",
        "print(\"Volume balok =\", p * l * t, \"cm³\")"
      ],
      "metadata": {
        "colab": {
          "base_uri": "https://localhost:8080/"
        },
        "id": "FZ-AArr1fouT",
        "outputId": "f31caaa9-3e52-4a10-98f1-80f3e2160ea9"
      },
      "execution_count": 1,
      "outputs": [
        {
          "output_type": "stream",
          "name": "stdout",
          "text": [
            "Masukkan panjang: 29\n",
            "Masukkan lebar: 3\n",
            "Masukkan tinggi: 9\n",
            "Volume balok = 783 cm³\n"
          ]
        }
      ]
    },
    {
      "cell_type": "code",
      "source": [
        "# Latihan 2 (pertemuan 3)\n",
        "# Menghitung Volume Balok\n",
        "\n",
        "# Input\n",
        "p = int(input(\"Masukkan panjang: \"))\n",
        "\n",
        "l = int(input(\"Masukkan lebar: \"))\n",
        "\n",
        "t = int(input(\"Masukkan tinggi: \"))\n",
        "\n",
        "\n",
        "# Rumus\n",
        "volume = p * l * t\n",
        "\n",
        "# Output\n",
        "print(f\"Volume balok = {volume} cm³\")\n"
      ],
      "metadata": {
        "colab": {
          "base_uri": "https://localhost:8080/"
        },
        "id": "zrhZLMQ90a2M",
        "outputId": "cc36c87a-9bde-41bf-9c2e-284f491d9f74"
      },
      "execution_count": 2,
      "outputs": [
        {
          "output_type": "stream",
          "name": "stdout",
          "text": [
            "Masukkan panjang: 29\n",
            "Masukkan lebar: 3\n",
            "Masukkan tinggi: 9\n",
            "Volume balok = 783 cm³\n"
          ]
        }
      ]
    }
  ]
}